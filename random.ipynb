{
 "cells": [
  {
   "cell_type": "code",
   "execution_count": 1,
   "metadata": {},
   "outputs": [],
   "source": [
    "import ouraring"
   ]
  },
  {
   "cell_type": "code",
   "execution_count": 3,
   "metadata": {},
   "outputs": [],
   "source": [
    "import re\n",
    "# https://cloud.ouraring.com/personal-access-tokens\n",
    "tokens = open(\".env\", \"r\").read()\n",
    "ouraring_token = re.findall(r\"OURARING_TOKEN=\\\"(.*)\\\"\", tokens)[0]\n",
    "ouraring_client = ouraring.ApiClient(header_name=\"Authorization\", header_value=\"Bearer \" + ouraring_token)"
   ]
  },
  {
   "cell_type": "code",
   "execution_count": 13,
   "metadata": {},
   "outputs": [
    {
     "data": {
      "text/plain": [
       "(None, 200)"
      ]
     },
     "execution_count": 13,
     "metadata": {},
     "output_type": "execute_result"
    }
   ],
   "source": [
    "params = {\"start_date\": \"2022-11-01\", \"end_date\": \"2023-12-01\"}\n",
    "endpoint = \"https://api.ouraring.com/v2/usercollection/daily_sleep\"\n",
    "result, status_code, headers = ouraring_client.call_api(\n",
    "    endpoint, \"GET\", query_params=params\n",
    ")\n",
    "result, status_code\n"
   ]
  },
  {
   "cell_type": "code",
   "execution_count": 14,
   "metadata": {},
   "outputs": [
    {
     "data": {
      "text/plain": [
       "(None, 200)"
      ]
     },
     "execution_count": 14,
     "metadata": {},
     "output_type": "execute_result"
    }
   ],
   "source": [
    "endpoint = \"https://api.ouraring.com/v2/usercollection/personal_info\"\n",
    "result, status_code, headers = ouraring_client.call_api(\n",
    "    endpoint, \"GET\", query_params=params\n",
    ")\n",
    "result, status_code"
   ]
  },
  {
   "cell_type": "code",
   "execution_count": 15,
   "metadata": {},
   "outputs": [
    {
     "data": {
      "text/plain": [
       "(None, 200)"
      ]
     },
     "execution_count": 15,
     "metadata": {},
     "output_type": "execute_result"
    }
   ],
   "source": [
    "endpoint = \"https://api.ouraring.com/v2/usercollection/tag\"\n",
    "result, status_code, headers = ouraring_client.call_api(\n",
    "    endpoint, \"GET\", query_params=params\n",
    ")\n",
    "result, status_code"
   ]
  },
  {
   "cell_type": "markdown",
   "metadata": {},
   "source": [
    "# Timingapp exploration\n",
    "\n",
    "https://timingapp.com"
   ]
  },
  {
   "cell_type": "code",
   "execution_count": 16,
   "metadata": {},
   "outputs": [],
   "source": [
    "import timingapp"
   ]
  },
  {
   "cell_type": "code",
   "execution_count": null,
   "metadata": {},
   "outputs": [],
   "source": [
    "timingapp_token = re.findall(r\"TIMINGAPP_TOKEN=\\\"(.*)\\\"\", tokens)[0]"
   ]
  },
  {
   "cell_type": "code",
   "execution_count": null,
   "metadata": {},
   "outputs": [],
   "source": [
    "timingapp.ApiClient"
   ]
  }
 ],
 "metadata": {
  "kernelspec": {
   "display_name": "Python 3.8.13 64-bit ('3.8.13')",
   "language": "python",
   "name": "python3"
  },
  "language_info": {
   "codemirror_mode": {
    "name": "ipython",
    "version": 3
   },
   "file_extension": ".py",
   "mimetype": "text/x-python",
   "name": "python",
   "nbconvert_exporter": "python",
   "pygments_lexer": "ipython3",
   "version": "3.8.13"
  },
  "orig_nbformat": 4,
  "vscode": {
   "interpreter": {
    "hash": "110cc1dee26208153f2972f08a2ad52b6a56238dc66d48e87fb757ef2996db56"
   }
  }
 },
 "nbformat": 4,
 "nbformat_minor": 2
}
