{
 "cells": [
  {
   "cell_type": "code",
   "execution_count": 72,
   "metadata": {},
   "outputs": [],
   "source": [
    "import pandas as pd\n",
    "import re\n",
    "tokens = open(\".env\", \"r\").read()"
   ]
  },
  {
   "cell_type": "markdown",
   "metadata": {},
   "source": [
    "# Ouraring exploration"
   ]
  },
  {
   "cell_type": "code",
   "execution_count": 65,
   "metadata": {},
   "outputs": [],
   "source": [
    "from sys import api_version\n",
    "import ouraring\n",
    "from ouraring import Configuration\n",
    "\n",
    "# https://cloud.ouraring.com/personal-access-tokens\n",
    "ouraring_token = re.findall(r\"OURARING_TOKEN=\\\"(.*)\\\"\", tokens)[0]\n",
    "conf = Configuration(\n",
    "    host=\"https://api.ouraring.com/v2\",\n",
    "    api_key=ouraring_token,\n",
    "    access_token=ouraring_token,\n",
    ")\n",
    "ouraring_client = ouraring.ApiClient(\n",
    "    header_name=\"Authorization\",\n",
    "    header_value=\"Bearer \" + ouraring_token,\n",
    "    configuration=conf,\n",
    ")\n",
    "from ouraring.api.daily_sleep_api import DailySleepApi\n",
    "\n",
    "daily_sleep_api = DailySleepApi(ouraring_client)"
   ]
  },
  {
   "cell_type": "code",
   "execution_count": null,
   "metadata": {},
   "outputs": [],
   "source": [
    "import requests\n",
    "\n",
    "url = \"https://api.ouraring.com/v2/usercollection/daily_readiness\"\n",
    "params = {\"start_date\": \"2021-11-01\", \"end_date\": \"2023-12-01\"}\n",
    "headers = {\"Authorization\": \"Bearer \" + ouraring_token}\n",
    "\n",
    "daily_readiness_df = pd.json_normalize(\n",
    "    requests.request(\"GET\", url, headers=headers, params=params).json()[\"data\"],\n",
    ")\n",
    "# replace all columns starting with \"contributors.\" by \"daily_readiness_\"\n",
    "daily_readiness_df.columns = [\n",
    "    re.sub(r\"^contributors\\.\", \"daily_readiness_\", col)\n",
    "    for col in daily_readiness_df.columns\n",
    "]\n",
    "# replace \"score\" by \"daily_readiness_score\"\n",
    "daily_readiness_df.columns = [\n",
    "    re.sub(r\"^score$\", \"daily_readiness_score\", col)\n",
    "    for col in daily_readiness_df.columns\n",
    "]\n",
    "url = \"https://api.ouraring.com/v2/usercollection/heartrate\"\n",
    "heartrate_df = pd.json_normalize(\n",
    "    requests.request(\"GET\", url, headers=headers, params=params).json()[\"data\"],\n",
    ")\n",
    "\n",
    "url = \"https://api.ouraring.com/v2/usercollection/daily_sleep\"\n",
    "daily_sleep_df = pd.json_normalize(\n",
    "    requests.request(\"GET\", url, headers=headers, params=params).json()[\"data\"],\n",
    ")\n",
    "# replace all columns starting with \"contributors.\" by \"daily_sleep_\"\n",
    "daily_sleep_df.columns = [\n",
    "    re.sub(r\"^contributors\\.\", \"daily_sleep_\", col) for col in daily_sleep_df.columns\n",
    "]\n",
    "# replace \"score\" by \"daily_sleep_score\"\n",
    "daily_sleep_df.columns = [\n",
    "    re.sub(r\"^score$\", \"daily_sleep_score\", col) for col in daily_sleep_df.columns\n",
    "]\n",
    "\n",
    "url = \"https://api.ouraring.com/v2/usercollection/daily_activity\"\n",
    "daily_activity_df = pd.json_normalize(\n",
    "    requests.request(\"GET\", url, headers=headers, params=params).json()[\"data\"],\n",
    ")\n",
    "# replace all columns starting with \"contributors.\" by \"daily_activity_\"\n",
    "daily_activity_df.columns = [\n",
    "    re.sub(r\"^contributors\\.\", \"daily_activity_\", col)\n",
    "    for col in daily_activity_df.columns\n",
    "]\n",
    "# replace all columns starting with \"met.\" by \"daily_activity_\"\n",
    "daily_activity_df.columns = [\n",
    "    re.sub(r\"^met\\.\", \"daily_activity_\", col) for col in daily_activity_df.columns\n",
    "]\n",
    "# replace \"score\" by \"daily_activity_score\"\n",
    "daily_activity_df.columns = [\n",
    "    re.sub(r\"^score$\", \"daily_activity_score\", col) for col in daily_activity_df.columns\n",
    "]\n",
    "\n",
    "# merge all dataframes on nearest \"timestamp\" column\n",
    "# type 'datetime64[ns]'\n",
    "daily_activity_df[\"date\"] = pd.to_datetime(daily_activity_df.timestamp).tz_localize(None)\n",
    "daily_sleep_df[\"date\"] = pd.to_datetime(daily_sleep_df.timestamp).tz_localize(None)\n",
    "daily_readiness_df[\"date\"] = pd.to_datetime(daily_readiness_df.timestamp).tz_localize(None)\n",
    "daily_activity_df.sort_values(\"date\", inplace=True)\n",
    "daily_sleep_df.sort_values(\"date\", inplace=True)\n",
    "daily_readiness_df.sort_values(\"date\", inplace=True)\n",
    "df = pd.merge_asof(\n",
    "    daily_activity_df,\n",
    "    daily_sleep_df,\n",
    "    on=\"date\",\n",
    "    by=\"date\",\n",
    "    direction=\"nearest\",\n",
    "    tolerance=pd.Timedelta(\"1 day\"),\n",
    ")\n",
    "df = pd.merge_asof(\n",
    "    df,\n",
    "    daily_readiness_df,\n",
    "    on=\"date\",\n",
    "    by=\"date\",\n",
    "    direction=\"nearest\",\n",
    "    tolerance=pd.Timedelta(\"1 day\"),\n",
    ")\n",
    "df"
   ]
  },
  {
   "cell_type": "code",
   "execution_count": 88,
   "metadata": {},
   "outputs": [
    {
     "ename": "TypeError",
     "evalue": "_from_openapi_data() missing 3 required positional arguments: 'contributors', 'day', and 'timestamp'",
     "output_type": "error",
     "traceback": [
      "\u001b[0;31m---------------------------------------------------------------------------\u001b[0m",
      "\u001b[0;31mTypeError\u001b[0m                                 Traceback (most recent call last)",
      "\u001b[1;32m/workspace/ega/random.ipynb Cell 5\u001b[0m in \u001b[0;36m<cell line: 4>\u001b[0;34m()\u001b[0m\n\u001b[1;32m      <a href='vscode-notebook-cell://ssh-remote%2B7b2275736572223a226c6f7569733033303139352d6567612d3765366172347270393463222c22686f73744e616d65223a226c6f7569733033303139352d6567612d37653661723472703934632e7373682e77732d657536332e676974706f642e696f227d/workspace/ega/random.ipynb#X22sdnNjb2RlLXJlbW90ZQ%3D%3D?line=0'>1</a>\u001b[0m \u001b[39mfrom\u001b[39;00m \u001b[39mouraring\u001b[39;00m\u001b[39m.\u001b[39;00m\u001b[39mapis\u001b[39;00m \u001b[39mimport\u001b[39;00m DailySleepApi\n\u001b[1;32m      <a href='vscode-notebook-cell://ssh-remote%2B7b2275736572223a226c6f7569733033303139352d6567612d3765366172347270393463222c22686f73744e616d65223a226c6f7569733033303139352d6567612d37653661723472703934632e7373682e77732d657536332e676974706f642e696f227d/workspace/ega/random.ipynb#X22sdnNjb2RlLXJlbW90ZQ%3D%3D?line=1'>2</a>\u001b[0m \u001b[39mfrom\u001b[39;00m \u001b[39mouraring\u001b[39;00m \u001b[39mimport\u001b[39;00m ApiClient\n\u001b[0;32m----> <a href='vscode-notebook-cell://ssh-remote%2B7b2275736572223a226c6f7569733033303139352d6567612d3765366172347270393463222c22686f73744e616d65223a226c6f7569733033303139352d6567612d37653661723472703934632e7373682e77732d657536332e676974706f642e696f227d/workspace/ega/random.ipynb#X22sdnNjb2RlLXJlbW90ZQ%3D%3D?line=3'>4</a>\u001b[0m DailySleepApi(\n\u001b[1;32m      <a href='vscode-notebook-cell://ssh-remote%2B7b2275736572223a226c6f7569733033303139352d6567612d3765366172347270393463222c22686f73744e616d65223a226c6f7569733033303139352d6567612d37653661723472703934632e7373682e77732d657536332e676974706f642e696f227d/workspace/ega/random.ipynb#X22sdnNjb2RlLXJlbW90ZQ%3D%3D?line=4'>5</a>\u001b[0m     ApiClient(\n\u001b[1;32m      <a href='vscode-notebook-cell://ssh-remote%2B7b2275736572223a226c6f7569733033303139352d6567612d3765366172347270393463222c22686f73744e616d65223a226c6f7569733033303139352d6567612d37653661723472703934632e7373682e77732d657536332e676974706f642e696f227d/workspace/ega/random.ipynb#X22sdnNjb2RlLXJlbW90ZQ%3D%3D?line=5'>6</a>\u001b[0m         configuration\u001b[39m=\u001b[39;49mConfiguration(\n\u001b[1;32m      <a href='vscode-notebook-cell://ssh-remote%2B7b2275736572223a226c6f7569733033303139352d6567612d3765366172347270393463222c22686f73744e616d65223a226c6f7569733033303139352d6567612d37653661723472703934632e7373682e77732d657536332e676974706f642e696f227d/workspace/ega/random.ipynb#X22sdnNjb2RlLXJlbW90ZQ%3D%3D?line=6'>7</a>\u001b[0m             host\u001b[39m=\u001b[39;49m\u001b[39m\"\u001b[39;49m\u001b[39mhttps://api.ouraring.com\u001b[39;49m\u001b[39m\"\u001b[39;49m,\n\u001b[1;32m      <a href='vscode-notebook-cell://ssh-remote%2B7b2275736572223a226c6f7569733033303139352d6567612d3765366172347270393463222c22686f73744e616d65223a226c6f7569733033303139352d6567612d37653661723472703934632e7373682e77732d657536332e676974706f642e696f227d/workspace/ega/random.ipynb#X22sdnNjb2RlLXJlbW90ZQ%3D%3D?line=7'>8</a>\u001b[0m             api_key\u001b[39m=\u001b[39;49mouraring_token,\n\u001b[1;32m      <a href='vscode-notebook-cell://ssh-remote%2B7b2275736572223a226c6f7569733033303139352d6567612d3765366172347270393463222c22686f73744e616d65223a226c6f7569733033303139352d6567612d37653661723472703934632e7373682e77732d657536332e676974706f642e696f227d/workspace/ega/random.ipynb#X22sdnNjb2RlLXJlbW90ZQ%3D%3D?line=8'>9</a>\u001b[0m             access_token\u001b[39m=\u001b[39;49mouraring_token,\n\u001b[1;32m     <a href='vscode-notebook-cell://ssh-remote%2B7b2275736572223a226c6f7569733033303139352d6567612d3765366172347270393463222c22686f73744e616d65223a226c6f7569733033303139352d6567612d37653661723472703934632e7373682e77732d657536332e676974706f642e696f227d/workspace/ega/random.ipynb#X22sdnNjb2RlLXJlbW90ZQ%3D%3D?line=9'>10</a>\u001b[0m         ),\n\u001b[1;32m     <a href='vscode-notebook-cell://ssh-remote%2B7b2275736572223a226c6f7569733033303139352d6567612d3765366172347270393463222c22686f73744e616d65223a226c6f7569733033303139352d6567612d37653661723472703934632e7373682e77732d657536332e676974706f642e696f227d/workspace/ega/random.ipynb#X22sdnNjb2RlLXJlbW90ZQ%3D%3D?line=10'>11</a>\u001b[0m         header_name\u001b[39m=\u001b[39;49m\u001b[39m\"\u001b[39;49m\u001b[39mAuthorization\u001b[39;49m\u001b[39m\"\u001b[39;49m,\n\u001b[1;32m     <a href='vscode-notebook-cell://ssh-remote%2B7b2275736572223a226c6f7569733033303139352d6567612d3765366172347270393463222c22686f73744e616d65223a226c6f7569733033303139352d6567612d37653661723472703934632e7373682e77732d657536332e676974706f642e696f227d/workspace/ega/random.ipynb#X22sdnNjb2RlLXJlbW90ZQ%3D%3D?line=11'>12</a>\u001b[0m         header_value\u001b[39m=\u001b[39;49m\u001b[39m\"\u001b[39;49m\u001b[39mBearer \u001b[39;49m\u001b[39m\"\u001b[39;49m \u001b[39m+\u001b[39;49m ouraring_token,\n\u001b[1;32m     <a href='vscode-notebook-cell://ssh-remote%2B7b2275736572223a226c6f7569733033303139352d6567612d3765366172347270393463222c22686f73744e616d65223a226c6f7569733033303139352d6567612d37653661723472703934632e7373682e77732d657536332e676974706f642e696f227d/workspace/ega/random.ipynb#X22sdnNjb2RlLXJlbW90ZQ%3D%3D?line=12'>13</a>\u001b[0m     )\n\u001b[1;32m     <a href='vscode-notebook-cell://ssh-remote%2B7b2275736572223a226c6f7569733033303139352d6567612d3765366172347270393463222c22686f73744e616d65223a226c6f7569733033303139352d6567612d37653661723472703934632e7373682e77732d657536332e676974706f642e696f227d/workspace/ega/random.ipynb#X22sdnNjb2RlLXJlbW90ZQ%3D%3D?line=13'>14</a>\u001b[0m )\u001b[39m.\u001b[39;49mdaily_sleep_route_daily_sleep_get(\n\u001b[1;32m     <a href='vscode-notebook-cell://ssh-remote%2B7b2275736572223a226c6f7569733033303139352d6567612d3765366172347270393463222c22686f73744e616d65223a226c6f7569733033303139352d6567612d37653661723472703934632e7373682e77732d657536332e676974706f642e696f227d/workspace/ega/random.ipynb#X22sdnNjb2RlLXJlbW90ZQ%3D%3D?line=14'>15</a>\u001b[0m     start_date\u001b[39m=\u001b[39;49m\u001b[39m\"\u001b[39;49m\u001b[39m2021-11-01\u001b[39;49m\u001b[39m\"\u001b[39;49m,\n\u001b[1;32m     <a href='vscode-notebook-cell://ssh-remote%2B7b2275736572223a226c6f7569733033303139352d6567612d3765366172347270393463222c22686f73744e616d65223a226c6f7569733033303139352d6567612d37653661723472703934632e7373682e77732d657536332e676974706f642e696f227d/workspace/ega/random.ipynb#X22sdnNjb2RlLXJlbW90ZQ%3D%3D?line=15'>16</a>\u001b[0m     end_date\u001b[39m=\u001b[39;49m\u001b[39m\"\u001b[39;49m\u001b[39m2023-12-01\u001b[39;49m\u001b[39m\"\u001b[39;49m,\n\u001b[1;32m     <a href='vscode-notebook-cell://ssh-remote%2B7b2275736572223a226c6f7569733033303139352d6567612d3765366172347270393463222c22686f73744e616d65223a226c6f7569733033303139352d6567612d37653661723472703934632e7373682e77732d657536332e676974706f642e696f227d/workspace/ega/random.ipynb#X22sdnNjb2RlLXJlbW90ZQ%3D%3D?line=16'>17</a>\u001b[0m )\n",
      "File \u001b[0;32m/workspace/ega/ouraring/api/daily_sleep_api.py:176\u001b[0m, in \u001b[0;36mDailySleepApi.daily_sleep_route_daily_sleep_get\u001b[0;34m(self, **kwargs)\u001b[0m\n\u001b[1;32m    174\u001b[0m kwargs[\u001b[39m'\u001b[39m\u001b[39m_host_index\u001b[39m\u001b[39m'\u001b[39m] \u001b[39m=\u001b[39m kwargs\u001b[39m.\u001b[39mget(\u001b[39m'\u001b[39m\u001b[39m_host_index\u001b[39m\u001b[39m'\u001b[39m)\n\u001b[1;32m    175\u001b[0m kwargs[\u001b[39m'\u001b[39m\u001b[39m_request_auths\u001b[39m\u001b[39m'\u001b[39m] \u001b[39m=\u001b[39m kwargs\u001b[39m.\u001b[39mget(\u001b[39m'\u001b[39m\u001b[39m_request_auths\u001b[39m\u001b[39m'\u001b[39m, \u001b[39mNone\u001b[39;00m)\n\u001b[0;32m--> 176\u001b[0m \u001b[39mreturn\u001b[39;00m \u001b[39mself\u001b[39;49m\u001b[39m.\u001b[39;49mdaily_sleep_route_daily_sleep_get_endpoint\u001b[39m.\u001b[39;49mcall_with_http_info(\u001b[39m*\u001b[39;49m\u001b[39m*\u001b[39;49mkwargs)\n",
      "File \u001b[0;32m/workspace/ega/ouraring/api_client.py:879\u001b[0m, in \u001b[0;36mEndpoint.call_with_http_info\u001b[0;34m(self, **kwargs)\u001b[0m\n\u001b[1;32m    876\u001b[0m             \u001b[39mif\u001b[39;00m content_types_list:\n\u001b[1;32m    877\u001b[0m                 params[\u001b[39m'\u001b[39m\u001b[39mheader\u001b[39m\u001b[39m'\u001b[39m][\u001b[39m'\u001b[39m\u001b[39mContent-Type\u001b[39m\u001b[39m'\u001b[39m] \u001b[39m=\u001b[39m content_types_list\n\u001b[0;32m--> 879\u001b[0m \u001b[39mreturn\u001b[39;00m \u001b[39mself\u001b[39;49m\u001b[39m.\u001b[39;49mapi_client\u001b[39m.\u001b[39;49mcall_api(\n\u001b[1;32m    880\u001b[0m     \u001b[39mself\u001b[39;49m\u001b[39m.\u001b[39;49msettings[\u001b[39m'\u001b[39;49m\u001b[39mendpoint_path\u001b[39;49m\u001b[39m'\u001b[39;49m], \u001b[39mself\u001b[39;49m\u001b[39m.\u001b[39;49msettings[\u001b[39m'\u001b[39;49m\u001b[39mhttp_method\u001b[39;49m\u001b[39m'\u001b[39;49m],\n\u001b[1;32m    881\u001b[0m     params[\u001b[39m'\u001b[39;49m\u001b[39mpath\u001b[39;49m\u001b[39m'\u001b[39;49m],\n\u001b[1;32m    882\u001b[0m     params[\u001b[39m'\u001b[39;49m\u001b[39mquery\u001b[39;49m\u001b[39m'\u001b[39;49m],\n\u001b[1;32m    883\u001b[0m     params[\u001b[39m'\u001b[39;49m\u001b[39mheader\u001b[39;49m\u001b[39m'\u001b[39;49m],\n\u001b[1;32m    884\u001b[0m     body\u001b[39m=\u001b[39;49mparams[\u001b[39m'\u001b[39;49m\u001b[39mbody\u001b[39;49m\u001b[39m'\u001b[39;49m],\n\u001b[1;32m    885\u001b[0m     post_params\u001b[39m=\u001b[39;49mparams[\u001b[39m'\u001b[39;49m\u001b[39mform\u001b[39;49m\u001b[39m'\u001b[39;49m],\n\u001b[1;32m    886\u001b[0m     files\u001b[39m=\u001b[39;49mparams[\u001b[39m'\u001b[39;49m\u001b[39mfile\u001b[39;49m\u001b[39m'\u001b[39;49m],\n\u001b[1;32m    887\u001b[0m     response_type\u001b[39m=\u001b[39;49m\u001b[39mself\u001b[39;49m\u001b[39m.\u001b[39;49msettings[\u001b[39m'\u001b[39;49m\u001b[39mresponse_type\u001b[39;49m\u001b[39m'\u001b[39;49m],\n\u001b[1;32m    888\u001b[0m     auth_settings\u001b[39m=\u001b[39;49m\u001b[39mself\u001b[39;49m\u001b[39m.\u001b[39;49msettings[\u001b[39m'\u001b[39;49m\u001b[39mauth\u001b[39;49m\u001b[39m'\u001b[39;49m],\n\u001b[1;32m    889\u001b[0m     async_req\u001b[39m=\u001b[39;49mkwargs[\u001b[39m'\u001b[39;49m\u001b[39masync_req\u001b[39;49m\u001b[39m'\u001b[39;49m],\n\u001b[1;32m    890\u001b[0m     _check_type\u001b[39m=\u001b[39;49mkwargs[\u001b[39m'\u001b[39;49m\u001b[39m_check_return_type\u001b[39;49m\u001b[39m'\u001b[39;49m],\n\u001b[1;32m    891\u001b[0m     _return_http_data_only\u001b[39m=\u001b[39;49mkwargs[\u001b[39m'\u001b[39;49m\u001b[39m_return_http_data_only\u001b[39;49m\u001b[39m'\u001b[39;49m],\n\u001b[1;32m    892\u001b[0m     _preload_content\u001b[39m=\u001b[39;49mkwargs[\u001b[39m'\u001b[39;49m\u001b[39m_preload_content\u001b[39;49m\u001b[39m'\u001b[39;49m],\n\u001b[1;32m    893\u001b[0m     _request_timeout\u001b[39m=\u001b[39;49mkwargs[\u001b[39m'\u001b[39;49m\u001b[39m_request_timeout\u001b[39;49m\u001b[39m'\u001b[39;49m],\n\u001b[1;32m    894\u001b[0m     _host\u001b[39m=\u001b[39;49m_host,\n\u001b[1;32m    895\u001b[0m     _request_auths\u001b[39m=\u001b[39;49mkwargs[\u001b[39m'\u001b[39;49m\u001b[39m_request_auths\u001b[39;49m\u001b[39m'\u001b[39;49m],\n\u001b[1;32m    896\u001b[0m     collection_formats\u001b[39m=\u001b[39;49mparams[\u001b[39m'\u001b[39;49m\u001b[39mcollection_format\u001b[39;49m\u001b[39m'\u001b[39;49m])\n",
      "File \u001b[0;32m/workspace/ega/ouraring/api_client.py:421\u001b[0m, in \u001b[0;36mApiClient.call_api\u001b[0;34m(self, resource_path, method, path_params, query_params, header_params, body, post_params, files, response_type, auth_settings, async_req, _return_http_data_only, collection_formats, _preload_content, _request_timeout, _host, _check_type, _request_auths)\u001b[0m\n\u001b[1;32m    363\u001b[0m \u001b[39m\"\"\"Makes the HTTP request (synchronous) and returns deserialized data.\u001b[39;00m\n\u001b[1;32m    364\u001b[0m \n\u001b[1;32m    365\u001b[0m \u001b[39mTo make an async_req request, set the async_req parameter.\u001b[39;00m\n\u001b[0;32m   (...)\u001b[0m\n\u001b[1;32m    418\u001b[0m \u001b[39m    then the method will return the response directly.\u001b[39;00m\n\u001b[1;32m    419\u001b[0m \u001b[39m\"\"\"\u001b[39;00m\n\u001b[1;32m    420\u001b[0m \u001b[39mif\u001b[39;00m \u001b[39mnot\u001b[39;00m async_req:\n\u001b[0;32m--> 421\u001b[0m     \u001b[39mreturn\u001b[39;00m \u001b[39mself\u001b[39;49m\u001b[39m.\u001b[39;49m__call_api(resource_path, method,\n\u001b[1;32m    422\u001b[0m                            path_params, query_params, header_params,\n\u001b[1;32m    423\u001b[0m                            body, post_params, files,\n\u001b[1;32m    424\u001b[0m                            response_type, auth_settings,\n\u001b[1;32m    425\u001b[0m                            _return_http_data_only, collection_formats,\n\u001b[1;32m    426\u001b[0m                            _preload_content, _request_timeout, _host,\n\u001b[1;32m    427\u001b[0m                            _check_type, _request_auths\u001b[39m=\u001b[39;49m_request_auths)\n\u001b[1;32m    429\u001b[0m \u001b[39mreturn\u001b[39;00m \u001b[39mself\u001b[39m\u001b[39m.\u001b[39mpool\u001b[39m.\u001b[39mapply_async(\u001b[39mself\u001b[39m\u001b[39m.\u001b[39m__call_api, (resource_path,\n\u001b[1;32m    430\u001b[0m                                                method, path_params,\n\u001b[1;32m    431\u001b[0m                                                query_params,\n\u001b[0;32m   (...)\u001b[0m\n\u001b[1;32m    439\u001b[0m                                                _request_timeout,\n\u001b[1;32m    440\u001b[0m                                                _host, _check_type, \u001b[39mNone\u001b[39;00m, _request_auths))\n",
      "File \u001b[0;32m/workspace/ega/ouraring/api_client.py:226\u001b[0m, in \u001b[0;36mApiClient.__call_api\u001b[0;34m(self, resource_path, method, path_params, query_params, header_params, body, post_params, files, response_type, auth_settings, _return_http_data_only, collection_formats, _preload_content, _request_timeout, _host, _check_type, _content_type, _request_auths)\u001b[0m\n\u001b[1;32m    223\u001b[0m                 encoding \u001b[39m=\u001b[39m match\u001b[39m.\u001b[39mgroup(\u001b[39m1\u001b[39m)\n\u001b[1;32m    224\u001b[0m         response_data\u001b[39m.\u001b[39mdata \u001b[39m=\u001b[39m response_data\u001b[39m.\u001b[39mdata\u001b[39m.\u001b[39mdecode(encoding)\n\u001b[0;32m--> 226\u001b[0m     return_data \u001b[39m=\u001b[39m \u001b[39mself\u001b[39;49m\u001b[39m.\u001b[39;49mdeserialize(\n\u001b[1;32m    227\u001b[0m         response_data,\n\u001b[1;32m    228\u001b[0m         response_type,\n\u001b[1;32m    229\u001b[0m         _check_type\n\u001b[1;32m    230\u001b[0m     )\n\u001b[1;32m    231\u001b[0m \u001b[39melse\u001b[39;00m:\n\u001b[1;32m    232\u001b[0m     return_data \u001b[39m=\u001b[39m \u001b[39mNone\u001b[39;00m\n",
      "File \u001b[0;32m/workspace/ega/ouraring/api_client.py:332\u001b[0m, in \u001b[0;36mApiClient.deserialize\u001b[0;34m(self, response, response_type, _check_type)\u001b[0m\n\u001b[1;32m    328\u001b[0m     received_data \u001b[39m=\u001b[39m response\u001b[39m.\u001b[39mdata\n\u001b[1;32m    330\u001b[0m \u001b[39m# store our data under the key of 'received_data' so users have some\u001b[39;00m\n\u001b[1;32m    331\u001b[0m \u001b[39m# context if they are deserializing a string and the data type is wrong\u001b[39;00m\n\u001b[0;32m--> 332\u001b[0m deserialized_data \u001b[39m=\u001b[39m validate_and_convert_types(\n\u001b[1;32m    333\u001b[0m     received_data,\n\u001b[1;32m    334\u001b[0m     response_type,\n\u001b[1;32m    335\u001b[0m     [\u001b[39m'\u001b[39;49m\u001b[39mreceived_data\u001b[39;49m\u001b[39m'\u001b[39;49m],\n\u001b[1;32m    336\u001b[0m     \u001b[39mTrue\u001b[39;49;00m,\n\u001b[1;32m    337\u001b[0m     _check_type,\n\u001b[1;32m    338\u001b[0m     configuration\u001b[39m=\u001b[39;49m\u001b[39mself\u001b[39;49m\u001b[39m.\u001b[39;49mconfiguration\n\u001b[1;32m    339\u001b[0m )\n\u001b[1;32m    340\u001b[0m \u001b[39mreturn\u001b[39;00m deserialized_data\n",
      "File \u001b[0;32m/workspace/ega/ouraring/model_utils.py:1582\u001b[0m, in \u001b[0;36mvalidate_and_convert_types\u001b[0;34m(input_value, required_types_mixed, path_to_item, spec_property_naming, _check_type, configuration)\u001b[0m\n\u001b[1;32m   1577\u001b[0m \u001b[39mif\u001b[39;00m \u001b[39mnot\u001b[39;00m valid_type:\n\u001b[1;32m   1578\u001b[0m     \u001b[39mif\u001b[39;00m (configuration\n\u001b[1;32m   1579\u001b[0m             \u001b[39mor\u001b[39;00m (input_class_simple \u001b[39m==\u001b[39m \u001b[39mdict\u001b[39m\n\u001b[1;32m   1580\u001b[0m                 \u001b[39mand\u001b[39;00m \u001b[39mdict\u001b[39m \u001b[39mnot\u001b[39;00m \u001b[39min\u001b[39;00m valid_classes)):\n\u001b[1;32m   1581\u001b[0m         \u001b[39m# if input_value is not valid_type try to convert it\u001b[39;00m\n\u001b[0;32m-> 1582\u001b[0m         converted_instance \u001b[39m=\u001b[39m attempt_convert_item(\n\u001b[1;32m   1583\u001b[0m             input_value,\n\u001b[1;32m   1584\u001b[0m             valid_classes,\n\u001b[1;32m   1585\u001b[0m             path_to_item,\n\u001b[1;32m   1586\u001b[0m             configuration,\n\u001b[1;32m   1587\u001b[0m             spec_property_naming,\n\u001b[1;32m   1588\u001b[0m             key_type\u001b[39m=\u001b[39;49m\u001b[39mFalse\u001b[39;49;00m,\n\u001b[1;32m   1589\u001b[0m             must_convert\u001b[39m=\u001b[39;49m\u001b[39mTrue\u001b[39;49;00m,\n\u001b[1;32m   1590\u001b[0m             check_type\u001b[39m=\u001b[39;49m_check_type\n\u001b[1;32m   1591\u001b[0m         )\n\u001b[1;32m   1592\u001b[0m         \u001b[39mreturn\u001b[39;00m converted_instance\n\u001b[1;32m   1593\u001b[0m     \u001b[39melse\u001b[39;00m:\n",
      "File \u001b[0;32m/workspace/ega/ouraring/model_utils.py:1462\u001b[0m, in \u001b[0;36mattempt_convert_item\u001b[0;34m(input_value, valid_classes, path_to_item, configuration, spec_property_naming, key_type, must_convert, check_type)\u001b[0m\n\u001b[1;32m   1460\u001b[0m \u001b[39mtry\u001b[39;00m:\n\u001b[1;32m   1461\u001b[0m     \u001b[39mif\u001b[39;00m \u001b[39missubclass\u001b[39m(valid_class, OpenApiModel):\n\u001b[0;32m-> 1462\u001b[0m         \u001b[39mreturn\u001b[39;00m deserialize_model(input_value, valid_class,\n\u001b[1;32m   1463\u001b[0m                                  path_to_item, check_type,\n\u001b[1;32m   1464\u001b[0m                                  configuration, spec_property_naming)\n\u001b[1;32m   1465\u001b[0m     \u001b[39melif\u001b[39;00m valid_class \u001b[39m==\u001b[39m file_type:\n\u001b[1;32m   1466\u001b[0m         \u001b[39mreturn\u001b[39;00m deserialize_file(input_value, configuration)\n",
      "File \u001b[0;32m/workspace/ega/ouraring/model_utils.py:1376\u001b[0m, in \u001b[0;36mdeserialize_model\u001b[0;34m(model_data, model_class, path_to_item, check_type, configuration, spec_property_naming)\u001b[0m\n\u001b[1;32m   1374\u001b[0m \u001b[39mif\u001b[39;00m \u001b[39misinstance\u001b[39m(model_data, \u001b[39mdict\u001b[39m):\n\u001b[1;32m   1375\u001b[0m     kw_args\u001b[39m.\u001b[39mupdate(model_data)\n\u001b[0;32m-> 1376\u001b[0m     \u001b[39mreturn\u001b[39;00m model_class\u001b[39m.\u001b[39;49m_new_from_openapi_data(\u001b[39m*\u001b[39;49m\u001b[39m*\u001b[39;49mkw_args)\n\u001b[1;32m   1377\u001b[0m \u001b[39melif\u001b[39;00m \u001b[39misinstance\u001b[39m(model_data, PRIMITIVE_TYPES):\n\u001b[1;32m   1378\u001b[0m     \u001b[39mreturn\u001b[39;00m model_class\u001b[39m.\u001b[39m_new_from_openapi_data(model_data, \u001b[39m*\u001b[39m\u001b[39m*\u001b[39mkw_args)\n",
      "File \u001b[0;32m/workspace/ega/ouraring/model_utils.py:48\u001b[0m, in \u001b[0;36mconvert_js_args_to_python_args.<locals>.wrapped_init\u001b[0;34m(_self, *args, **kwargs)\u001b[0m\n\u001b[1;32m     44\u001b[0m \u001b[39mif\u001b[39;00m spec_property_naming:\n\u001b[1;32m     45\u001b[0m     kwargs \u001b[39m=\u001b[39m change_keys_js_to_python(\n\u001b[1;32m     46\u001b[0m         kwargs, _self \u001b[39mif\u001b[39;00m \u001b[39misinstance\u001b[39m(\n\u001b[1;32m     47\u001b[0m             _self, \u001b[39mtype\u001b[39m) \u001b[39melse\u001b[39;00m _self\u001b[39m.\u001b[39m\u001b[39m__class__\u001b[39m)\n\u001b[0;32m---> 48\u001b[0m \u001b[39mreturn\u001b[39;00m fn(_self, \u001b[39m*\u001b[39;49margs, \u001b[39m*\u001b[39;49m\u001b[39m*\u001b[39;49mkwargs)\n",
      "File \u001b[0;32m/workspace/ega/ouraring/model_utils.py:371\u001b[0m, in \u001b[0;36mOpenApiModel._new_from_openapi_data\u001b[0;34m(cls, *args, **kwargs)\u001b[0m\n\u001b[1;32m    350\u001b[0m visited_composed_classes \u001b[39m=\u001b[39m kwargs\u001b[39m.\u001b[39mget(\u001b[39m'\u001b[39m\u001b[39m_visited_composed_classes\u001b[39m\u001b[39m'\u001b[39m, ())\n\u001b[1;32m    351\u001b[0m \u001b[39mif\u001b[39;00m (\n\u001b[1;32m    352\u001b[0m     \u001b[39mcls\u001b[39m\u001b[39m.\u001b[39mdiscriminator \u001b[39mis\u001b[39;00m \u001b[39mNone\u001b[39;00m \u001b[39mor\u001b[39;00m\n\u001b[1;32m    353\u001b[0m     \u001b[39mcls\u001b[39m \u001b[39min\u001b[39;00m visited_composed_classes\n\u001b[0;32m   (...)\u001b[0m\n\u001b[1;32m    368\u001b[0m     \u001b[39m# through Animal's discriminator because we passed in\u001b[39;00m\n\u001b[1;32m    369\u001b[0m     \u001b[39m# _visited_composed_classes = (Animal,)\u001b[39;00m\n\u001b[0;32m--> 371\u001b[0m     \u001b[39mreturn\u001b[39;00m \u001b[39mcls\u001b[39;49m\u001b[39m.\u001b[39;49m_from_openapi_data(\u001b[39m*\u001b[39;49margs, \u001b[39m*\u001b[39;49m\u001b[39m*\u001b[39;49mkwargs)\n\u001b[1;32m    373\u001b[0m \u001b[39m# Get the name and value of the discriminator property.\u001b[39;00m\n\u001b[1;32m    374\u001b[0m \u001b[39m# The discriminator name is obtained from the discriminator meta-data\u001b[39;00m\n\u001b[1;32m    375\u001b[0m \u001b[39m# and the discriminator value is obtained from the input data.\u001b[39;00m\n\u001b[1;32m    376\u001b[0m discr_propertyname_py \u001b[39m=\u001b[39m \u001b[39mlist\u001b[39m(\u001b[39mcls\u001b[39m\u001b[39m.\u001b[39mdiscriminator\u001b[39m.\u001b[39mkeys())[\u001b[39m0\u001b[39m]\n",
      "File \u001b[0;32m/workspace/ega/ouraring/model_utils.py:48\u001b[0m, in \u001b[0;36mconvert_js_args_to_python_args.<locals>.wrapped_init\u001b[0;34m(_self, *args, **kwargs)\u001b[0m\n\u001b[1;32m     44\u001b[0m \u001b[39mif\u001b[39;00m spec_property_naming:\n\u001b[1;32m     45\u001b[0m     kwargs \u001b[39m=\u001b[39m change_keys_js_to_python(\n\u001b[1;32m     46\u001b[0m         kwargs, _self \u001b[39mif\u001b[39;00m \u001b[39misinstance\u001b[39m(\n\u001b[1;32m     47\u001b[0m             _self, \u001b[39mtype\u001b[39m) \u001b[39melse\u001b[39;00m _self\u001b[39m.\u001b[39m\u001b[39m__class__\u001b[39m)\n\u001b[0;32m---> 48\u001b[0m \u001b[39mreturn\u001b[39;00m fn(_self, \u001b[39m*\u001b[39;49margs, \u001b[39m*\u001b[39;49m\u001b[39m*\u001b[39;49mkwargs)\n",
      "\u001b[0;31mTypeError\u001b[0m: _from_openapi_data() missing 3 required positional arguments: 'contributors', 'day', and 'timestamp'"
     ]
    }
   ],
   "source": [
    "from ouraring.apis import DailySleepApi\n",
    "from ouraring import ApiClient\n",
    "\n",
    "DailySleepApi(\n",
    "    ApiClient(\n",
    "        configuration=Configuration(\n",
    "            host=\"https://api.ouraring.com\",\n",
    "            api_key=ouraring_token,\n",
    "            access_token=ouraring_token,\n",
    "        ),\n",
    "        header_name=\"Authorization\",\n",
    "        header_value=\"Bearer \" + ouraring_token,\n",
    "    )\n",
    ").daily_sleep_route_daily_sleep_get(\n",
    "    start_date=\"2021-11-01\",\n",
    "    end_date=\"2023-12-01\",\n",
    ")\n"
   ]
  },
  {
   "cell_type": "code",
   "execution_count": null,
   "metadata": {},
   "outputs": [],
   "source": [
    "params = {\"start_date\": \"2022-11-01\", \"end_date\": \"2023-12-01\"}\n",
    "import json\n",
    "daily_sleep_api.daily_sleep_route_daily_sleep_get()"
   ]
  },
  {
   "cell_type": "markdown",
   "metadata": {},
   "source": [
    "# Timingapp exploration\n",
    "\n",
    "https://timingapp.com"
   ]
  },
  {
   "cell_type": "code",
   "execution_count": 4,
   "metadata": {},
   "outputs": [],
   "source": [
    "import timingapp"
   ]
  },
  {
   "cell_type": "code",
   "execution_count": 5,
   "metadata": {},
   "outputs": [],
   "source": [
    "timingapp_token = re.findall(r\"TIMINGAPP_TOKEN=\\\"(.*)\\\"\", tokens)[0]"
   ]
  },
  {
   "cell_type": "code",
   "execution_count": 7,
   "metadata": {},
   "outputs": [],
   "source": [
    "timingapp_client = timingapp.ApiClient(header_name=\"Authorization\", header_value=\"Bearer \" + timingapp_token)"
   ]
  },
  {
   "cell_type": "code",
   "execution_count": null,
   "metadata": {},
   "outputs": [],
   "source": [
    "from timingapp.api.reports_api import ReportsApi\n",
    "report_api = ReportsApi(timingapp_client)\n",
    "pd.DataFrame(report_api.api_v1_report_get()[\"data\"]).sort_values(\"duration\", ascending=False)"
   ]
  }
 ],
 "metadata": {
  "kernelspec": {
   "display_name": "Python 3.8.13 64-bit ('3.8.13')",
   "language": "python",
   "name": "python3"
  },
  "language_info": {
   "codemirror_mode": {
    "name": "ipython",
    "version": 3
   },
   "file_extension": ".py",
   "mimetype": "text/x-python",
   "name": "python",
   "nbconvert_exporter": "python",
   "pygments_lexer": "ipython3",
   "version": "3.8.13"
  },
  "orig_nbformat": 4,
  "vscode": {
   "interpreter": {
    "hash": "110cc1dee26208153f2972f08a2ad52b6a56238dc66d48e87fb757ef2996db56"
   }
  }
 },
 "nbformat": 4,
 "nbformat_minor": 2
}
